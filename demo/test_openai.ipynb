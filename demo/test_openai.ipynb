{
 "cells": [
  {
   "cell_type": "code",
   "execution_count": 1,
   "metadata": {},
   "outputs": [
    {
     "name": "stdout",
     "output_type": "stream",
     "text": [
      "{\n",
      "  \"role\": \"assistant\",\n",
      "  \"content\": \"Hello! How can I help you today? If you have any questions or need assistance with something, feel free to ask.\"\n",
      "}\n"
     ]
    }
   ],
   "source": [
    "# if you are using openai\n",
    "import openai\n",
    "\n",
    "openai.api_key = \"\"\n",
    "\n",
    "response = openai.ChatCompletion.create(\n",
    "    model=\"gpt-4-1106-preview\",\n",
    "    messages=[\n",
    "      {\"role\": \"user\", \"content\": \"hello!\"},\n",
    "  ]\n",
    ")\n",
    "\n",
    "print(response['choices'][0]['message'][\"content\"])"
   ]
  },
  {
   "cell_type": "code",
   "execution_count": 3,
   "metadata": {},
   "outputs": [
    {
     "name": "stdout",
     "output_type": "stream",
     "text": [
      "Hello! How can I help you today? If you have any questions or need assistance with something, feel free to ask.\n"
     ]
    }
   ],
   "source": [
    "# if you are using azure\n",
    "import openai\n",
    "\n",
    "openai.api_type = \"azure\"\n",
    "openai.api_base =\"\"\n",
    "openai.api_key = \"\"\n",
    "\n",
    "openai.api_version = \"\"\n",
    "openai.gpt4_engine = \"\"\n",
    "\n",
    "response = openai.ChatCompletion.create(\n",
    "    engine = openai.gpt4_engine,\n",
    "    messages=[\n",
    "    {\"role\": \"user\", \"content\": \"hello!\"},\n",
    "  ]\n",
    ")\n",
    "\n",
    "print(response['choices'][0]['message'][\"content\"])"
   ]
  },
  {
   "cell_type": "code",
   "execution_count": null,
   "metadata": {},
   "outputs": [],
   "source": []
  }
 ],
 "metadata": {
  "kernelspec": {
   "display_name": "base",
   "language": "python",
   "name": "python3"
  },
  "language_info": {
   "codemirror_mode": {
    "name": "ipython",
    "version": 3
   },
   "file_extension": ".py",
   "mimetype": "text/x-python",
   "name": "python",
   "nbconvert_exporter": "python",
   "pygments_lexer": "ipython3",
   "version": "3.10.12"
  }
 },
 "nbformat": 4,
 "nbformat_minor": 2
}
