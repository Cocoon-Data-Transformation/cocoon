{
 "cells": [
  {
   "cell_type": "code",
   "execution_count": 1,
   "metadata": {},
   "outputs": [],
   "source": [
    "from cocoon_data import *"
   ]
  },
  {
   "cell_type": "code",
   "execution_count": 2,
   "metadata": {},
   "outputs": [],
   "source": [
    "# load embedded vocabulary file\n",
    "reference_df = pd.read_csv('/home/zh2408/ohdsi/Procedure.csv')"
   ]
  },
  {
   "cell_type": "code",
   "execution_count": 3,
   "metadata": {},
   "outputs": [],
   "source": [
    "index = load_embedding(reference_df, label_embedding='embedding')"
   ]
  },
  {
   "cell_type": "code",
   "execution_count": 4,
   "metadata": {},
   "outputs": [],
   "source": [
    "procedure_df = pd.read_csv('./files/procedures.csv')"
   ]
  },
  {
   "cell_type": "code",
   "execution_count": 7,
   "metadata": {},
   "outputs": [
    {
     "name": "stderr",
     "output_type": "stream",
     "text": [
      "Embedding Labels:   0%|          | 0/5 [00:00<?, ?label/s]"
     ]
    },
    {
     "name": "stderr",
     "output_type": "stream",
     "text": [
      "Embedding Labels: 100%|██████████| 5/5 [00:00<00:00,  6.08label/s]"
     ]
    },
    {
     "name": "stdout",
     "output_type": "stream",
     "text": [
      "All labels embedded and CSV updated.\n"
     ]
    },
    {
     "name": "stderr",
     "output_type": "stream",
     "text": [
      "\n"
     ]
    },
    {
     "data": {
      "text/html": [
       "<div>\n",
       "<style scoped>\n",
       "    .dataframe tbody tr th:only-of-type {\n",
       "        vertical-align: middle;\n",
       "    }\n",
       "\n",
       "    .dataframe tbody tr th {\n",
       "        vertical-align: top;\n",
       "    }\n",
       "\n",
       "    .dataframe thead th {\n",
       "        text-align: right;\n",
       "    }\n",
       "</style>\n",
       "<table border=\"1\" class=\"dataframe\">\n",
       "  <thead>\n",
       "    <tr style=\"text-align: right;\">\n",
       "      <th></th>\n",
       "      <th>label</th>\n",
       "      <th>index_ids</th>\n",
       "      <th>CODE</th>\n",
       "      <th>DESCRIPTION</th>\n",
       "      <th>embedding</th>\n",
       "    </tr>\n",
       "  </thead>\n",
       "  <tbody>\n",
       "    <tr>\n",
       "      <th>0</th>\n",
       "      <td>Admission to orthopedic department</td>\n",
       "      <td>[4]</td>\n",
       "      <td>305428000</td>\n",
       "      <td>Admission to orthopedic department</td>\n",
       "      <td>[0.027575980871915817, 0.008947665803134441, -...</td>\n",
       "    </tr>\n",
       "    <tr>\n",
       "      <th>1</th>\n",
       "      <td>Clavicle X-ray</td>\n",
       "      <td>[3]</td>\n",
       "      <td>168594001</td>\n",
       "      <td>Clavicle X-ray</td>\n",
       "      <td>[0.003449691692367196, 0.00801424216479063, 0....</td>\n",
       "    </tr>\n",
       "    <tr>\n",
       "      <th>2</th>\n",
       "      <td>Injection of tetanus antitoxin</td>\n",
       "      <td>[7]</td>\n",
       "      <td>384700001</td>\n",
       "      <td>Injection of tetanus antitoxin</td>\n",
       "      <td>[-0.03375847265124321, 0.015600106678903103, -...</td>\n",
       "    </tr>\n",
       "    <tr>\n",
       "      <th>3</th>\n",
       "      <td>Medication Reconciliation (procedure)</td>\n",
       "      <td>[0, 1, 2, 8, 9]</td>\n",
       "      <td>430193006</td>\n",
       "      <td>Medication Reconciliation (procedure)</td>\n",
       "      <td>[0.02277933992445469, 0.02867008186876774, 0.0...</td>\n",
       "    </tr>\n",
       "    <tr>\n",
       "      <th>4</th>\n",
       "      <td>Suture open wound</td>\n",
       "      <td>[5, 6]</td>\n",
       "      <td>288086009</td>\n",
       "      <td>Suture open wound</td>\n",
       "      <td>[0.0003375147352926433, 0.0011483834823593497,...</td>\n",
       "    </tr>\n",
       "  </tbody>\n",
       "</table>\n",
       "</div>"
      ],
      "text/plain": [
       "                                   label        index_ids       CODE  \\\n",
       "0     Admission to orthopedic department              [4]  305428000   \n",
       "1                         Clavicle X-ray              [3]  168594001   \n",
       "2         Injection of tetanus antitoxin              [7]  384700001   \n",
       "3  Medication Reconciliation (procedure)  [0, 1, 2, 8, 9]  430193006   \n",
       "4                      Suture open wound           [5, 6]  288086009   \n",
       "\n",
       "                             DESCRIPTION  \\\n",
       "0     Admission to orthopedic department   \n",
       "1                         Clavicle X-ray   \n",
       "2         Injection of tetanus antitoxin   \n",
       "3  Medication Reconciliation (procedure)   \n",
       "4                      Suture open wound   \n",
       "\n",
       "                                           embedding  \n",
       "0  [0.027575980871915817, 0.008947665803134441, -...  \n",
       "1  [0.003449691692367196, 0.00801424216479063, 0....  \n",
       "2  [-0.03375847265124321, 0.015600106678903103, -...  \n",
       "3  [0.02277933992445469, 0.02867008186876774, 0.0...  \n",
       "4  [0.0003375147352926433, 0.0011483834823593497,...  "
      ]
     },
     "execution_count": 7,
     "metadata": {},
     "output_type": "execute_result"
    }
   ],
   "source": [
    "# build embedding for your file\n",
    "procedure_df[\"label\"] = procedure_df[\"DESCRIPTION\"]\n",
    "embed_labels(procedure_df, './files/embedded_procedures.csv')"
   ]
  },
  {
   "cell_type": "code",
   "execution_count": 10,
   "metadata": {},
   "outputs": [],
   "source": [
    "# use the embedding to search for the nearest neighbor\n",
    "procedure_synthea_embedded_label = pd.read_csv('./files/embedded_procedures.csv')\n",
    "D, I = df_search(procedure_synthea_embedded_label, index)"
   ]
  },
  {
   "cell_type": "code",
   "execution_count": 11,
   "metadata": {},
   "outputs": [
    {
     "data": {
      "application/vnd.jupyter.widget-view+json": {
       "model_id": "c77d59517ec94f02a4efd7d44452cb78",
       "version_major": 2,
       "version_minor": 0
      },
      "text/plain": [
       "HBox(children=(Button(description='Previous Page', style=ButtonStyle()), Label(value='Page 1 of 5'), Button(de…"
      ]
     },
     "metadata": {},
     "output_type": "display_data"
    },
    {
     "data": {
      "application/vnd.jupyter.widget-view+json": {
       "model_id": "e4810e9922e941c9a87e06809b15ec2e",
       "version_major": 2,
       "version_minor": 0
      },
      "text/plain": [
       "HTML(value='<b>Input Label</b>: <table border=\"1\" class=\"dataframe\">\\n  <thead>\\n    <tr style=\"text-align: ri…"
      ]
     },
     "metadata": {},
     "output_type": "display_data"
    }
   ],
   "source": [
    "# below are the matched results using embedding\n",
    "display_matches(reference_df=reference_df, input_df=procedure_synthea_embedded_label, I=I)"
   ]
  },
  {
   "cell_type": "code",
   "execution_count": null,
   "metadata": {},
   "outputs": [],
   "source": []
  },
  {
   "cell_type": "code",
   "execution_count": 14,
   "metadata": {},
   "outputs": [],
   "source": [
    "# relation-based entity matching\n",
    "entity_relation_match(input_df = procedure_synthea_embedded_label, \n",
    "                        attributes = [\"DESCRIPTION\"], \n",
    "                        I = I, \n",
    "                        refernece_df = reference_df, \n",
    "                        label = \"label\")\n",
    "\n",
    "procedure_synthea_embedded_label.to_csv('./files/procedure_synthea_matched.csv', index=False)"
   ]
  },
  {
   "cell_type": "code",
   "execution_count": 15,
   "metadata": {},
   "outputs": [],
   "source": [
    "procedure_synthea_matched = pd.read_csv('./files/procedure_synthea_matched.csv')"
   ]
  },
  {
   "cell_type": "code",
   "execution_count": 16,
   "metadata": {},
   "outputs": [
    {
     "data": {
      "application/vnd.jupyter.widget-view+json": {
       "model_id": "cc5f03cb5eeb4099ba81d1e35e16d4a9",
       "version_major": 2,
       "version_minor": 0
      },
      "text/plain": [
       "HBox(children=(Button(description='Previous Page', style=ButtonStyle()), Label(value='Page 1 of 5'), Button(de…"
      ]
     },
     "metadata": {},
     "output_type": "display_data"
    },
    {
     "data": {
      "application/vnd.jupyter.widget-view+json": {
       "model_id": "830ded9dc9e94f2fabf23dd586f5f513",
       "version_major": 2,
       "version_minor": 0
      },
      "text/plain": [
       "HTML(value='<h1>Input Data</h1>\\n<table border=\"1\" class=\"dataframe\">\\n  <thead>\\n    <tr style=\"text-align: r…"
      ]
     },
     "metadata": {},
     "output_type": "display_data"
    }
   ],
   "source": [
    "display_entity_matches(procedure_synthea_matched)"
   ]
  },
  {
   "cell_type": "code",
   "execution_count": 17,
   "metadata": {},
   "outputs": [],
   "source": [
    "write_report_to_file(procedure_synthea_matched, \"./files/standardization_report.html\")"
   ]
  },
  {
   "cell_type": "code",
   "execution_count": null,
   "metadata": {},
   "outputs": [],
   "source": []
  }
 ],
 "metadata": {
  "kernelspec": {
   "display_name": "base",
   "language": "python",
   "name": "python3"
  },
  "language_info": {
   "codemirror_mode": {
    "name": "ipython",
    "version": 3
   },
   "file_extension": ".py",
   "mimetype": "text/x-python",
   "name": "python",
   "nbconvert_exporter": "python",
   "pygments_lexer": "ipython3",
   "version": "3.10.12"
  }
 },
 "nbformat": 4,
 "nbformat_minor": 2
}
